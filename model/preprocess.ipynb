{
 "cells": [
  {
   "cell_type": "code",
   "execution_count": 3,
   "metadata": {},
   "outputs": [],
   "source": [
    "import pandas as pd\n",
    "import numpy as np"
   ]
  },
  {
   "cell_type": "code",
   "execution_count": 5,
   "metadata": {},
   "outputs": [],
   "source": [
    "df = pd.read_csv(\"D:/Code/proj/BCCC-VolSCs-2023_Vulnerable.csv\")"
   ]
  },
  {
   "cell_type": "code",
   "execution_count": 14,
   "metadata": {},
   "outputs": [
    {
     "name": "stdout",
     "output_type": "stream",
     "text": [
      "['Unnamed: 0', 'hash_id', 'label', 'bytecode_len', 'Weight bytecode_character_6', 'Weight bytecode_character_0', 'Weight bytecode_character_8', 'Weight bytecode_character_4', 'Weight bytecode_character_5', 'Weight bytecode_character_2', 'Weight bytecode_character_1', 'Weight bytecode_character_a', 'Weight bytecode_character_7', 'Weight bytecode_character_3', 'Weight bytecode_character_f', 'Weight bytecode_character_9', 'Weight bytecode_character_b', 'Weight bytecode_character_c', 'Weight bytecode_character_d', 'Weight bytecode_character_e', 'bytecode_character_6', 'bytecode_character_0', 'bytecode_character_8', 'bytecode_character_4', 'bytecode_character_5', 'bytecode_character_2', 'bytecode_character_1', 'bytecode_character_a', 'bytecode_character_7', 'bytecode_character_3', 'bytecode_character_f', 'bytecode_character_9', 'bytecode_character_b', 'bytecode_character_c', 'bytecode_character_d', 'bytecode_character_e', 'bytecode_entropy', 'ast_len_exportedSymbols', 'ast_id', 'ast_nodetype', 'ast_src', 'ast_len_nodes', 'Opcode weight STOP', 'Opcode weight ADD', 'Opcode weight MUL', 'Opcode weight SUB', 'Opcode weight DIV', 'Opcode weight SDIV', 'Opcode weight MOD', 'Opcode weight SMOD', 'Opcode weight ADDMOD', 'Opcode weight MULMOD', 'Opcode weight EXP', 'Opcode weight SIGNEXTEND', 'Opcode weight LT', 'Opcode weight GT', 'Opcode weight SLT', 'Opcode weight SGT', 'Opcode weight EQ', 'Opcode weight ISZERO', 'Opcode weight AND', 'Opcode weight OR', 'Opcode weight XOR', 'Opcode weight NOT', 'Opcode weight BYTE', 'Opcode weight SHL', 'Opcode weight SHR', 'Opcode weight SAR', 'Opcode weight SHA3', 'Opcode weight ADDRESS', 'Opcode weight BALANCE', 'Opcode weight ORIGIN', 'Opcode weight CALLER', 'Opcode weight CALLVALUE', 'Opcode weight CALLDATALOAD', 'Opcode weight CALLDATASIZE', 'Opcode weight CALLDATACOPY', 'Opcode weight CODESIZE', 'Opcode weight CODECOPY', 'Opcode weight GASPRICE', 'Opcode weight EXTCODESIZE', 'Opcode weight EXTCODECOPY', 'Opcode weight RETURNDATASIZE', 'Opcode weight RETURNDATACOPY', 'Opcode weight BLOCKHASH', 'Opcode weight COINBASE', 'Opcode weight TIMESTAMP', 'Opcode weight NUMBER', 'Opcode weight DIFFICULTY', 'Opcode weight GASLIMIT', 'Opcode weight POP', 'Opcode weight MLOAD', 'Opcode weight MSTORE', 'Opcode weight MSTORE8', 'Opcode weight SLOAD', 'Opcode weight SSTORE', 'Opcode weight JUMP', 'Opcode weight JUMPI', 'Opcode weight PC', 'Opcode weight MSIZE', 'Opcode weight GAS', 'Opcode weight JUMPDEST', 'Opcode weight PUSH1', 'Opcode weight PUSH2', 'Opcode weight PUSH3', 'Opcode weight PUSH4', 'Opcode weight PUSH5', 'Opcode weight PUSH6', 'Opcode weight PUSH7', 'Opcode weight PUSH8', 'Opcode weight PUSH9', 'Opcode weight PUSH10', 'Opcode weight PUSH11', 'Opcode weight PUSH12', 'Opcode weight PUSH13', 'Opcode weight PUSH14', 'Opcode weight PUSH15', 'Opcode weight PUSH16', 'Opcode weight PUSH17', 'Opcode weight PUSH18', 'Opcode weight PUSH19', 'Opcode weight PUSH20', 'Opcode weight PUSH21', 'Opcode weight PUSH22', 'Opcode weight PUSH23', 'Opcode weight PUSH24', 'Opcode weight PUSH25', 'Opcode weight PUSH26', 'Opcode weight PUSH27', 'Opcode weight PUSH28', 'Opcode weight PUSH29', 'Opcode weight PUSH30', 'Opcode weight PUSH31', 'Opcode weight PUSH32', 'Opcode weight DUP1', 'Opcode weight DUP2', 'Opcode weight DUP3', 'Opcode weight DUP4', 'Opcode weight DUP5', 'Opcode weight DUP6', 'Opcode weight DUP7', 'Opcode weight DUP8', 'Opcode weight DUP9', 'Opcode weight DUP10', 'Opcode weight DUP11', 'Opcode weight DUP12', 'Opcode weight DUP13', 'Opcode weight DUP14', 'Opcode weight DUP15', 'Opcode weight DUP16', 'Opcode weight SWAP1', 'Opcode weight SWAP2', 'Opcode weight SWAP3', 'Opcode weight SWAP4', 'Opcode weight SWAP5', 'Opcode weight SWAP6', 'Opcode weight SWAP7', 'Opcode weight SWAP8', 'Opcode weight SWAP9', 'Opcode weight SWAP10', 'Opcode weight SWAP11', 'Opcode weight SWAP12', 'Opcode weight SWAP13', 'Opcode weight SWAP14', 'Opcode weight SWAP15', 'Opcode weight SWAP16', 'Opcode weight LOG0', 'Opcode weight LOG1', 'Opcode weight LOG2', 'Opcode weight LOG3', 'Opcode weight LOG4', 'Opcode weight CREATE', 'Opcode weight CALL', 'Opcode weight CALLCODE', 'Opcode weight RETURN', 'Opcode weight DELEGATECALL', 'Opcode weight STATICCALL', 'Opcode weight REVERT', 'Opcode weight INVALID', 'Opcode weight SELFDESTRUCT', 'from', 'require', 'dev', 'internal', 'string', 'view', 'mapping', 'sub', 'emit', 'length', 'pure', 'will', 'not', 'approve', 'external', 'memory', 'eth', 'else', 'can', 'calls', 'data', 'q', 'Weight bytecode_character__', 'Weight bytecode_character_<', 'Weight bytecode_character_s', 'Weight bytecode_character_t', 'Weight bytecode_character_i', 'Weight bytecode_character_n', 'Weight bytecode_character_>', 'Weight bytecode_character_:', 'Weight bytecode_character_S', 'Weight bytecode_character_l', 'Weight bytecode_character_L', 'bytecode_character__', 'bytecode_character_<', 'bytecode_character_s', 'bytecode_character_t', 'bytecode_character_i', 'bytecode_character_n', 'bytecode_character_>', 'bytecode_character_:', 'bytecode_character_S', 'bytecode_character_l', 'bytecode_character_L', 'Weight bytecode_character_M', 'Weight bytecode_character_h', 'bytecode_character_M', 'bytecode_character_h', 'Weight bytecode_character_E', 'Weight bytecode_character_C', 'Weight bytecode_character_R', 'Weight bytecode_character_o', 'Weight bytecode_character_v', 'Weight bytecode_character_r', 'Weight bytecode_character_y', 'bytecode_character_E', 'bytecode_character_C', 'bytecode_character_R', 'bytecode_character_o', 'bytecode_character_v', 'bytecode_character_r', 'bytecode_character_y', 'Weight bytecode_character_O', 'Weight bytecode_character_z', 'bytecode_character_O', 'bytecode_character_z', 'Weight bytecode_character_B', 'Weight bytecode_character_T', 'bytecode_character_B', 'bytecode_character_T', 'Weight bytecode_character_D', 'Weight bytecode_character_A', 'Weight bytecode_character_u', 'bytecode_character_D', 'bytecode_character_A', 'bytecode_character_u', 'Weight bytecode_character_k', 'Weight bytecode_character_P', 'bytecode_character_k', 'bytecode_character_P', 'Weight bytecode_character_g', 'bytecode_character_g', 'Weight bytecode_character_I', 'Weight bytecode_character_m', 'bytecode_character_I', 'bytecode_character_m', 'Weight bytecode_character_x', 'bytecode_character_x']\n"
     ]
    }
   ],
   "source": [
    "print(df.columns.tolist())"
   ]
  },
  {
   "cell_type": "code",
   "execution_count": 15,
   "metadata": {},
   "outputs": [],
   "source": [
    "l = []\n",
    "for i in range(268):\n",
    "    l.append(df.columns)"
   ]
  },
  {
   "cell_type": "code",
   "execution_count": null,
   "metadata": {},
   "outputs": [],
   "source": [
    "print(l)"
   ]
  },
  {
   "cell_type": "code",
   "execution_count": null,
   "metadata": {},
   "outputs": [
    {
     "ename": "IndexError",
     "evalue": "list index out of range",
     "output_type": "error",
     "traceback": [
      "\u001b[1;31m---------------------------------------------------------------------------\u001b[0m",
      "\u001b[1;31mIndexError\u001b[0m                                Traceback (most recent call last)",
      "Cell \u001b[1;32mIn[18], line 13\u001b[0m\n\u001b[0;32m     10\u001b[0m     \u001b[38;5;28;01mwith\u001b[39;00m \u001b[38;5;28mopen\u001b[39m(file, \u001b[38;5;124m'\u001b[39m\u001b[38;5;124mr\u001b[39m\u001b[38;5;124m'\u001b[39m, encoding\u001b[38;5;241m=\u001b[39m\u001b[38;5;124m'\u001b[39m\u001b[38;5;124mutf-8\u001b[39m\u001b[38;5;124m'\u001b[39m) \u001b[38;5;28;01mas\u001b[39;00m f:\n\u001b[0;32m     11\u001b[0m         sol_data[hash_id] \u001b[38;5;241m=\u001b[39m f\u001b[38;5;241m.\u001b[39mread()\n\u001b[1;32m---> 13\u001b[0m sample_hash \u001b[38;5;241m=\u001b[39m \u001b[38;5;28;43mlist\u001b[39;49m\u001b[43m(\u001b[49m\u001b[43msol_data\u001b[49m\u001b[38;5;241;43m.\u001b[39;49m\u001b[43mkeys\u001b[49m\u001b[43m(\u001b[49m\u001b[43m)\u001b[49m\u001b[43m)\u001b[49m\u001b[43m[\u001b[49m\u001b[38;5;241;43m0\u001b[39;49m\u001b[43m]\u001b[49m\n\u001b[0;32m     14\u001b[0m \u001b[38;5;28mprint\u001b[39m(\u001b[38;5;124mf\u001b[39m\u001b[38;5;124m\"\u001b[39m\u001b[38;5;124mSample hash_id: \u001b[39m\u001b[38;5;132;01m{\u001b[39;00msample_hash\u001b[38;5;132;01m}\u001b[39;00m\u001b[38;5;124m\"\u001b[39m)\n\u001b[0;32m     15\u001b[0m \u001b[38;5;28mprint\u001b[39m(sol_data[sample_hash][:\u001b[38;5;241m300\u001b[39m])\n",
      "\u001b[1;31mIndexError\u001b[0m: list index out of range"
     ]
    }
   ],
   "source": [
    "import os\n",
    "from glob import glob\n",
    "\n",
    "sol_dir = '\"D:/Code/proj/Vulnerable_SourceCodes\"'\n",
    "sol_files = glob(os.path.join(sol_dir, '*.sol'))\n",
    "\n",
    "sol_data = {}\n",
    "for file in sol_files:\n",
    "    hash_id = os.path.splitext(os.path.basename(file))[0]\n",
    "    with open(file, 'r', encoding='utf-8') as f:\n",
    "        sol_data[hash_id] = f.read()\n",
    "\n",
    "sample_hash = list(sol_data.keys())[0]\n",
    "print(f\"Sample hash_id: {sample_hash}\")\n",
    "print(sol_data[sample_hash][:300])"
   ]
  },
  {
   "cell_type": "code",
   "execution_count": null,
   "metadata": {},
   "outputs": [],
   "source": [
    "import os\n",
    "\n",
    "sol_data = {}\n",
    "data_path = \"D:/Code/proj/Vulnerable_SourceCodes\"\n",
    "\n",
    "for file in os.listdir(data_path):\n",
    "    file_path = os.path.join(data_path, file)\n",
    "    print(f\"Checking file: {file_path}\")  # Debugging line\n",
    "    \n",
    "    try:\n",
    "        with open(file_path, 'r', encoding='utf-8') as f:\n",
    "            sol_data[file] = f.read()\n",
    "    except Exception as e:\n",
    "        print(f\"Error reading {file_path}: {e}\")\n",
    "\n",
    "# Check if sol_data is empty\n",
    "if not sol_data:\n",
    "    print(\"No data was read. Check file paths and filters.\")\n",
    "else:\n",
    "    sample_hash = list(sol_data.keys())[0]\n",
    "    print(f\"Sample hash_id: {sample_hash}\")\n",
    "    print(sol_data[sample_hash][:300])\n"
   ]
  }
 ],
 "metadata": {
  "kernelspec": {
   "display_name": "Python 3",
   "language": "python",
   "name": "python3"
  },
  "language_info": {
   "codemirror_mode": {
    "name": "ipython",
    "version": 3
   },
   "file_extension": ".py",
   "mimetype": "text/x-python",
   "name": "python",
   "nbconvert_exporter": "python",
   "pygments_lexer": "ipython3",
   "version": "3.12.4"
  }
 },
 "nbformat": 4,
 "nbformat_minor": 2
}
